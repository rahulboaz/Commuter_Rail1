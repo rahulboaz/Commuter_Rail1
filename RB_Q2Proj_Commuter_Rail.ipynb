{
 "cells": [
  {
   "metadata": {},
   "cell_type": "markdown",
   "source": [
    "Rahul Boaz  \n",
    "Intensive Data Science II  \n",
    "Ms. Pan    \n",
    "1/17/25\n",
    "# Q2 Final Project - World Commuter Rail Systems\n",
    "\n",
    "This dataset contains statistics of every single commuter and suburban rail system taken from a Wikipedia table using the Google sheets function IMPORTHTML(). Once imported, the data was cleaned and placed into pycharm for analysis. The first chart shows that Myanmar(Burma) has extremely high density, with $0.85$ stops every kilometer! Upon further research, the main system is in Yangon, the largest city in Myanmar, and one that recently began construction on a new metro system. It will replace the old commuter rail system that the city has outgrown. The second plot contains two logarithmic scattergrams comparing commuter rail systems between Europe and Asia (top subplot) and the rest of the world (bottom subplot). The scattergrams show that Europe and Asia stand out in terms of higher daily ridership and longer rail lengths compared to other continents. The final plot is a bar plot that further demonstrates Asia's dominance in the commuter rail and transit world as it as a total data ridership of almost 60 million riders!\n",
    "\n",
    "### Table of Contents\n",
    "[Dataset](\"Dataset)  \n",
    "[Station Density Choropleth](#Choropleth-Commuter-Rail-Station-Density-Plot)  \n",
    "[Daily Ridership vs. Length Scatterplots](#Length-vs.-Daily-Ridership)   \n",
    "[Daily Ridership by Country](#Daily-Ridership-by-Continent)  \n",
    "[Conclusion](#Conclusion)\n",
    "\n",
    "\n"
   ],
   "id": "37e3480b467112df"
  },
  {
   "metadata": {
    "collapsed": true,
    "ExecuteTime": {
     "end_time": "2025-08-29T19:25:51.979854Z",
     "start_time": "2025-08-29T19:25:51.976209Z"
    }
   },
   "cell_type": "code",
   "source": [
    "import matplotlib.pyplot as plt\n",
    "import pandas as pd\n",
    "import plotly.express as px\n",
    "import pycountry as pc\n",
    "plt.style.use('ggplot')\n"
   ],
   "id": "initial_id",
   "outputs": [],
   "execution_count": 10
  },
  {
   "metadata": {},
   "cell_type": "markdown",
   "source": "### Dataset:",
   "id": "dd7fe9678b4dadd7"
  },
  {
   "metadata": {
    "ExecuteTime": {
     "end_time": "2025-08-29T19:25:52.003687Z",
     "start_time": "2025-08-29T19:25:51.993182Z"
    }
   },
   "cell_type": "code",
   "source": [
    "df = pd.read_csv('metro_systems - WorldCommuter.csv')\n",
    "df.head()"
   ],
   "id": "9ce39472ddc7da14",
   "outputs": [
    {
     "data": {
      "text/plain": [
       "           City or area          City    Country  \\\n",
       "0               Algiers       Algiers    Algeria   \n",
       "1          Buenos Aires  Buenos Aires  Argentina   \n",
       "2               Córdoba       Córdoba  Argentina   \n",
       "3              La Plata      La Plata  Argentina   \n",
       "4  Neuquén - Cipolletti       Neuquén  Argentina   \n",
       "\n",
       "                                          Name  Lines  Stations  Length (km)  \\\n",
       "0                                  Algiers RER    4.0      33.0        126.5   \n",
       "1  Buenos Aires Metropolitan Area Rail Network    8.0     224.0        815.0   \n",
       "2                          Tren de las Sierras    1.0      17.0        150.8   \n",
       "3                 University train of La Plata    1.0       7.0          4.6   \n",
       "4                               Tren del Valle    1.0       5.0         21.0   \n",
       "\n",
       "   Daily ridership     Frequency  \n",
       "0          91000.0  0.2608695652  \n",
       "1        1400000.0  0.2748466258  \n",
       "2           1388.0  0.1127320955  \n",
       "3           7559.0    1.52173913  \n",
       "4            400.0  0.2380952381  "
      ],
      "text/html": [
       "<div>\n",
       "<style scoped>\n",
       "    .dataframe tbody tr th:only-of-type {\n",
       "        vertical-align: middle;\n",
       "    }\n",
       "\n",
       "    .dataframe tbody tr th {\n",
       "        vertical-align: top;\n",
       "    }\n",
       "\n",
       "    .dataframe thead th {\n",
       "        text-align: right;\n",
       "    }\n",
       "</style>\n",
       "<table border=\"1\" class=\"dataframe\">\n",
       "  <thead>\n",
       "    <tr style=\"text-align: right;\">\n",
       "      <th></th>\n",
       "      <th>City or area</th>\n",
       "      <th>City</th>\n",
       "      <th>Country</th>\n",
       "      <th>Name</th>\n",
       "      <th>Lines</th>\n",
       "      <th>Stations</th>\n",
       "      <th>Length (km)</th>\n",
       "      <th>Daily ridership</th>\n",
       "      <th>Frequency</th>\n",
       "    </tr>\n",
       "  </thead>\n",
       "  <tbody>\n",
       "    <tr>\n",
       "      <th>0</th>\n",
       "      <td>Algiers</td>\n",
       "      <td>Algiers</td>\n",
       "      <td>Algeria</td>\n",
       "      <td>Algiers RER</td>\n",
       "      <td>4.0</td>\n",
       "      <td>33.0</td>\n",
       "      <td>126.5</td>\n",
       "      <td>91000.0</td>\n",
       "      <td>0.2608695652</td>\n",
       "    </tr>\n",
       "    <tr>\n",
       "      <th>1</th>\n",
       "      <td>Buenos Aires</td>\n",
       "      <td>Buenos Aires</td>\n",
       "      <td>Argentina</td>\n",
       "      <td>Buenos Aires Metropolitan Area Rail Network</td>\n",
       "      <td>8.0</td>\n",
       "      <td>224.0</td>\n",
       "      <td>815.0</td>\n",
       "      <td>1400000.0</td>\n",
       "      <td>0.2748466258</td>\n",
       "    </tr>\n",
       "    <tr>\n",
       "      <th>2</th>\n",
       "      <td>Córdoba</td>\n",
       "      <td>Córdoba</td>\n",
       "      <td>Argentina</td>\n",
       "      <td>Tren de las Sierras</td>\n",
       "      <td>1.0</td>\n",
       "      <td>17.0</td>\n",
       "      <td>150.8</td>\n",
       "      <td>1388.0</td>\n",
       "      <td>0.1127320955</td>\n",
       "    </tr>\n",
       "    <tr>\n",
       "      <th>3</th>\n",
       "      <td>La Plata</td>\n",
       "      <td>La Plata</td>\n",
       "      <td>Argentina</td>\n",
       "      <td>University train of La Plata</td>\n",
       "      <td>1.0</td>\n",
       "      <td>7.0</td>\n",
       "      <td>4.6</td>\n",
       "      <td>7559.0</td>\n",
       "      <td>1.52173913</td>\n",
       "    </tr>\n",
       "    <tr>\n",
       "      <th>4</th>\n",
       "      <td>Neuquén - Cipolletti</td>\n",
       "      <td>Neuquén</td>\n",
       "      <td>Argentina</td>\n",
       "      <td>Tren del Valle</td>\n",
       "      <td>1.0</td>\n",
       "      <td>5.0</td>\n",
       "      <td>21.0</td>\n",
       "      <td>400.0</td>\n",
       "      <td>0.2380952381</td>\n",
       "    </tr>\n",
       "  </tbody>\n",
       "</table>\n",
       "</div>"
      ]
     },
     "execution_count": 11,
     "metadata": {},
     "output_type": "execute_result"
    }
   ],
   "execution_count": 11
  },
  {
   "metadata": {
    "ExecuteTime": {
     "end_time": "2025-08-29T19:25:52.040571Z",
     "start_time": "2025-08-29T19:25:52.037868Z"
    }
   },
   "cell_type": "code",
   "source": [
    "def iso3_code(name):\n",
    "    try:\n",
    "        return pc.countries.lookup(name).alpha_3\n",
    "    except LookupError:\n",
    "        return None\n",
    "    \n",
    "df[\"ISO3\"] = df[\"Country\"].apply(iso3_code)   "
   ],
   "id": "b70bb97729c65c04",
   "outputs": [],
   "execution_count": 12
  },
  {
   "metadata": {
    "ExecuteTime": {
     "end_time": "2025-08-29T19:25:52.077295Z",
     "start_time": "2025-08-29T19:25:52.070518Z"
    }
   },
   "cell_type": "code",
   "source": [
    "def country(name):\n",
    "    return pc.countries.lookup(name).name\n",
    "\n",
    "# https://www.geeksforgeeks.org/working-with-missing-data-in-pandas/\n",
    "fix = [\"Lines\", \"Stations\", \"Length (km)\", \"Daily ridership\"]\n",
    "df[fix] = df[fix].fillna(0)\n",
    "\n",
    "filtered_df = df[(df[\"Length (km)\"] > 0) & (df[\"Stations\"] > 0)]\n",
    "\n",
    "totals = [\"Lines\", \"Stations\", \"Length (km)\", \"Daily ridership\"]\n",
    "country_df = filtered_df.groupby(\"ISO3\", as_index=False)[totals].sum()\n",
    "\n",
    "country_df[\"Country\"] = country_df[\"ISO3\"].apply(country)\n",
    "\n",
    "country_df[\"Density (Stations/km)\"] = country_df[\"Stations\"] / country_df[\"Length (km)\"]\n",
    "country_df[\"Density (Stations/km)\"] = country_df[\"Density (Stations/km)\"].fillna(0)\n"
   ],
   "id": "6d605b1e99625fae",
   "outputs": [],
   "execution_count": 13
  },
  {
   "metadata": {},
   "cell_type": "markdown",
   "source": [
    "## Choropleth Commuter Rail Station Density Plot\n",
    "This map visualizes the density of commuter rail stations (stations per kilometer) by country. Japan and Hungary, stand out with high densities due to their rail networks that work more like metro systems. In contrast, North and South America generally have lower densities. Russia was not displayed due to missing data, however, other grey regions display countries without commuter rail systems, with central Africa having few systems. "
   ],
   "id": "80c6feb136c2d6f7"
  },
  {
   "metadata": {
    "ExecuteTime": {
     "end_time": "2025-08-29T19:25:52.145861Z",
     "start_time": "2025-08-29T19:25:52.121336Z"
    }
   },
   "cell_type": "code",
   "source": [
    "fig = px.choropleth(country_df, locations=\"ISO3\", color=\"Density (Stations/km)\", color_continuous_scale=\"Thermal\", title=\"Commuter Rail Station Density\", hover_name=\"Country\")\n",
    "\n",
    "fig.update_layout(\n",
    "    margin=dict(t=80, b=20), \n",
    "    width=900, \n",
    "    height=400,\n",
    ")\n"
   ],
   "id": "6b42dcc261eefef4",
   "outputs": [
    {
     "data": {
      "application/vnd.plotly.v1+json": {
       "data": [
        {
         "coloraxis": "coloraxis",
         "geo": "geo",
         "hovertemplate": "<b>%{hovertext}</b><br><br>ISO3=%{location}<br>Density (Stations/km)=%{z}<extra></extra>",
         "hovertext": [
          "Argentina",
          "Australia",
          "Austria",
          "Azerbaijan",
          "Belgium",
          "Brazil",
          "Canada",
          "Switzerland",
          "Chile",
          "China",
          "Costa Rica",
          "Czechia",
          "Germany",
          "Denmark",
          "Algeria",
          "Egypt",
          "Spain",
          "Estonia",
          "Finland",
          "France",
          "United Kingdom",
          "Greece",
          "Hong Kong",
          "Croatia",
          "Hungary",
          "Indonesia",
          "India",
          "Ireland",
          "Iran, Islamic Republic of",
          "Israel",
          "Italy",
          "Japan",
          "Kenya",
          "Korea, Republic of",
          "Morocco",
          "Mexico",
          "Myanmar",
          "Malaysia",
          "Norway",
          "New Zealand",
          "Philippines",
          "Poland",
          "Portugal",
          "Romania",
          "Senegal",
          "Serbia",
          "Sweden",
          "Thailand",
          "Tunisia",
          "Tanzania, United Republic of",
          "Ukraine",
          "Uruguay",
          "United States",
          "Venezuela, Bolivarian Republic of",
          "South Africa"
         ],
         "locations": [
          "ARG",
          "AUS",
          "AUT",
          "AZE",
          "BEL",
          "BRA",
          "CAN",
          "CHE",
          "CHL",
          "CHN",
          "CRI",
          "CZE",
          "DEU",
          "DNK",
          "DZA",
          "EGY",
          "ESP",
          "EST",
          "FIN",
          "FRA",
          "GBR",
          "GRC",
          "HKG",
          "HRV",
          "HUN",
          "IDN",
          "IND",
          "IRL",
          "IRN",
          "ISR",
          "ITA",
          "JPN",
          "KEN",
          "KOR",
          "MAR",
          "MEX",
          "MMR",
          "MYS",
          "NOR",
          "NZL",
          "PHL",
          "POL",
          "PRT",
          "ROU",
          "SEN",
          "SRB",
          "SWE",
          "THA",
          "TUN",
          "TZA",
          "UKR",
          "URY",
          "USA",
          "VEN",
          "ZAF"
         ],
         "name": "",
         "z": {
          "dtype": "f8",
          "bdata": "pbOYzmI6zz98DrfFCdjOP2B9ZLvhrtQ/lVEZlVEZxT8WX/EVX/HVP+irAPFOctw/nrO+PWtpxT8LWGbjBbvVP+R86UqNa8o/+fnBlDcWwT8cx3Ecx3HcP+ikW0pdPNQ/j9Ofe3SKzj8vLEZCaePdPwtZyEIWstA/Fl/xFV/xxT8wKAYYZ2nSP/DBBx988NE/HlsRNJzUzT/44fr96ovVPzkZhLqx08Q/Ern4tc9Qwz8s8LHAxwLfP4hFysDTrdk/EgUmnZoH6T/pafAsCN7HPy43K1LOs9I/wXgr+xxS4z+FN5o6v/bQP2WgJ2cE76w/eIe+cU740j+/Jao528LcP2ZmZmZmZsI/zv4F4pUS2z8AAAAAAADWP1Z+QpyVn8A/24Uw24Uw6z872rxPccnAP0U+6wZT5Ms/SDABXVo2yD91lIWB3Q3bP0w3iUFg5eA/ewntJbSX0D+amZmZmZnJP0qQpwR5StA/e7Ff4zp45T8or6G8hvLKP8shfKFHP6k/EIshUPjC4T+wBVuwBVvgPzMzMzMzM9M/AAAAAAAAsD+RXQwh4Q/DP+GWmg37u7g/7Bd3GpTL0D8="
         },
         "type": "choropleth"
        }
       ],
       "layout": {
        "template": {
         "data": {
          "histogram2dcontour": [
           {
            "type": "histogram2dcontour",
            "colorbar": {
             "outlinewidth": 0,
             "ticks": ""
            },
            "colorscale": [
             [
              0.0,
              "#0d0887"
             ],
             [
              0.1111111111111111,
              "#46039f"
             ],
             [
              0.2222222222222222,
              "#7201a8"
             ],
             [
              0.3333333333333333,
              "#9c179e"
             ],
             [
              0.4444444444444444,
              "#bd3786"
             ],
             [
              0.5555555555555556,
              "#d8576b"
             ],
             [
              0.6666666666666666,
              "#ed7953"
             ],
             [
              0.7777777777777778,
              "#fb9f3a"
             ],
             [
              0.8888888888888888,
              "#fdca26"
             ],
             [
              1.0,
              "#f0f921"
             ]
            ]
           }
          ],
          "choropleth": [
           {
            "type": "choropleth",
            "colorbar": {
             "outlinewidth": 0,
             "ticks": ""
            }
           }
          ],
          "histogram2d": [
           {
            "type": "histogram2d",
            "colorbar": {
             "outlinewidth": 0,
             "ticks": ""
            },
            "colorscale": [
             [
              0.0,
              "#0d0887"
             ],
             [
              0.1111111111111111,
              "#46039f"
             ],
             [
              0.2222222222222222,
              "#7201a8"
             ],
             [
              0.3333333333333333,
              "#9c179e"
             ],
             [
              0.4444444444444444,
              "#bd3786"
             ],
             [
              0.5555555555555556,
              "#d8576b"
             ],
             [
              0.6666666666666666,
              "#ed7953"
             ],
             [
              0.7777777777777778,
              "#fb9f3a"
             ],
             [
              0.8888888888888888,
              "#fdca26"
             ],
             [
              1.0,
              "#f0f921"
             ]
            ]
           }
          ],
          "heatmap": [
           {
            "type": "heatmap",
            "colorbar": {
             "outlinewidth": 0,
             "ticks": ""
            },
            "colorscale": [
             [
              0.0,
              "#0d0887"
             ],
             [
              0.1111111111111111,
              "#46039f"
             ],
             [
              0.2222222222222222,
              "#7201a8"
             ],
             [
              0.3333333333333333,
              "#9c179e"
             ],
             [
              0.4444444444444444,
              "#bd3786"
             ],
             [
              0.5555555555555556,
              "#d8576b"
             ],
             [
              0.6666666666666666,
              "#ed7953"
             ],
             [
              0.7777777777777778,
              "#fb9f3a"
             ],
             [
              0.8888888888888888,
              "#fdca26"
             ],
             [
              1.0,
              "#f0f921"
             ]
            ]
           }
          ],
          "contourcarpet": [
           {
            "type": "contourcarpet",
            "colorbar": {
             "outlinewidth": 0,
             "ticks": ""
            }
           }
          ],
          "contour": [
           {
            "type": "contour",
            "colorbar": {
             "outlinewidth": 0,
             "ticks": ""
            },
            "colorscale": [
             [
              0.0,
              "#0d0887"
             ],
             [
              0.1111111111111111,
              "#46039f"
             ],
             [
              0.2222222222222222,
              "#7201a8"
             ],
             [
              0.3333333333333333,
              "#9c179e"
             ],
             [
              0.4444444444444444,
              "#bd3786"
             ],
             [
              0.5555555555555556,
              "#d8576b"
             ],
             [
              0.6666666666666666,
              "#ed7953"
             ],
             [
              0.7777777777777778,
              "#fb9f3a"
             ],
             [
              0.8888888888888888,
              "#fdca26"
             ],
             [
              1.0,
              "#f0f921"
             ]
            ]
           }
          ],
          "surface": [
           {
            "type": "surface",
            "colorbar": {
             "outlinewidth": 0,
             "ticks": ""
            },
            "colorscale": [
             [
              0.0,
              "#0d0887"
             ],
             [
              0.1111111111111111,
              "#46039f"
             ],
             [
              0.2222222222222222,
              "#7201a8"
             ],
             [
              0.3333333333333333,
              "#9c179e"
             ],
             [
              0.4444444444444444,
              "#bd3786"
             ],
             [
              0.5555555555555556,
              "#d8576b"
             ],
             [
              0.6666666666666666,
              "#ed7953"
             ],
             [
              0.7777777777777778,
              "#fb9f3a"
             ],
             [
              0.8888888888888888,
              "#fdca26"
             ],
             [
              1.0,
              "#f0f921"
             ]
            ]
           }
          ],
          "mesh3d": [
           {
            "type": "mesh3d",
            "colorbar": {
             "outlinewidth": 0,
             "ticks": ""
            }
           }
          ],
          "scatter": [
           {
            "fillpattern": {
             "fillmode": "overlay",
             "size": 10,
             "solidity": 0.2
            },
            "type": "scatter"
           }
          ],
          "parcoords": [
           {
            "type": "parcoords",
            "line": {
             "colorbar": {
              "outlinewidth": 0,
              "ticks": ""
             }
            }
           }
          ],
          "scatterpolargl": [
           {
            "type": "scatterpolargl",
            "marker": {
             "colorbar": {
              "outlinewidth": 0,
              "ticks": ""
             }
            }
           }
          ],
          "bar": [
           {
            "error_x": {
             "color": "#2a3f5f"
            },
            "error_y": {
             "color": "#2a3f5f"
            },
            "marker": {
             "line": {
              "color": "#E5ECF6",
              "width": 0.5
             },
             "pattern": {
              "fillmode": "overlay",
              "size": 10,
              "solidity": 0.2
             }
            },
            "type": "bar"
           }
          ],
          "scattergeo": [
           {
            "type": "scattergeo",
            "marker": {
             "colorbar": {
              "outlinewidth": 0,
              "ticks": ""
             }
            }
           }
          ],
          "scatterpolar": [
           {
            "type": "scatterpolar",
            "marker": {
             "colorbar": {
              "outlinewidth": 0,
              "ticks": ""
             }
            }
           }
          ],
          "histogram": [
           {
            "marker": {
             "pattern": {
              "fillmode": "overlay",
              "size": 10,
              "solidity": 0.2
             }
            },
            "type": "histogram"
           }
          ],
          "scattergl": [
           {
            "type": "scattergl",
            "marker": {
             "colorbar": {
              "outlinewidth": 0,
              "ticks": ""
             }
            }
           }
          ],
          "scatter3d": [
           {
            "type": "scatter3d",
            "line": {
             "colorbar": {
              "outlinewidth": 0,
              "ticks": ""
             }
            },
            "marker": {
             "colorbar": {
              "outlinewidth": 0,
              "ticks": ""
             }
            }
           }
          ],
          "scattermap": [
           {
            "type": "scattermap",
            "marker": {
             "colorbar": {
              "outlinewidth": 0,
              "ticks": ""
             }
            }
           }
          ],
          "scattermapbox": [
           {
            "type": "scattermapbox",
            "marker": {
             "colorbar": {
              "outlinewidth": 0,
              "ticks": ""
             }
            }
           }
          ],
          "scatterternary": [
           {
            "type": "scatterternary",
            "marker": {
             "colorbar": {
              "outlinewidth": 0,
              "ticks": ""
             }
            }
           }
          ],
          "scattercarpet": [
           {
            "type": "scattercarpet",
            "marker": {
             "colorbar": {
              "outlinewidth": 0,
              "ticks": ""
             }
            }
           }
          ],
          "carpet": [
           {
            "aaxis": {
             "endlinecolor": "#2a3f5f",
             "gridcolor": "white",
             "linecolor": "white",
             "minorgridcolor": "white",
             "startlinecolor": "#2a3f5f"
            },
            "baxis": {
             "endlinecolor": "#2a3f5f",
             "gridcolor": "white",
             "linecolor": "white",
             "minorgridcolor": "white",
             "startlinecolor": "#2a3f5f"
            },
            "type": "carpet"
           }
          ],
          "table": [
           {
            "cells": {
             "fill": {
              "color": "#EBF0F8"
             },
             "line": {
              "color": "white"
             }
            },
            "header": {
             "fill": {
              "color": "#C8D4E3"
             },
             "line": {
              "color": "white"
             }
            },
            "type": "table"
           }
          ],
          "barpolar": [
           {
            "marker": {
             "line": {
              "color": "#E5ECF6",
              "width": 0.5
             },
             "pattern": {
              "fillmode": "overlay",
              "size": 10,
              "solidity": 0.2
             }
            },
            "type": "barpolar"
           }
          ],
          "pie": [
           {
            "automargin": true,
            "type": "pie"
           }
          ]
         },
         "layout": {
          "autotypenumbers": "strict",
          "colorway": [
           "#636efa",
           "#EF553B",
           "#00cc96",
           "#ab63fa",
           "#FFA15A",
           "#19d3f3",
           "#FF6692",
           "#B6E880",
           "#FF97FF",
           "#FECB52"
          ],
          "font": {
           "color": "#2a3f5f"
          },
          "hovermode": "closest",
          "hoverlabel": {
           "align": "left"
          },
          "paper_bgcolor": "white",
          "plot_bgcolor": "#E5ECF6",
          "polar": {
           "bgcolor": "#E5ECF6",
           "angularaxis": {
            "gridcolor": "white",
            "linecolor": "white",
            "ticks": ""
           },
           "radialaxis": {
            "gridcolor": "white",
            "linecolor": "white",
            "ticks": ""
           }
          },
          "ternary": {
           "bgcolor": "#E5ECF6",
           "aaxis": {
            "gridcolor": "white",
            "linecolor": "white",
            "ticks": ""
           },
           "baxis": {
            "gridcolor": "white",
            "linecolor": "white",
            "ticks": ""
           },
           "caxis": {
            "gridcolor": "white",
            "linecolor": "white",
            "ticks": ""
           }
          },
          "coloraxis": {
           "colorbar": {
            "outlinewidth": 0,
            "ticks": ""
           }
          },
          "colorscale": {
           "sequential": [
            [
             0.0,
             "#0d0887"
            ],
            [
             0.1111111111111111,
             "#46039f"
            ],
            [
             0.2222222222222222,
             "#7201a8"
            ],
            [
             0.3333333333333333,
             "#9c179e"
            ],
            [
             0.4444444444444444,
             "#bd3786"
            ],
            [
             0.5555555555555556,
             "#d8576b"
            ],
            [
             0.6666666666666666,
             "#ed7953"
            ],
            [
             0.7777777777777778,
             "#fb9f3a"
            ],
            [
             0.8888888888888888,
             "#fdca26"
            ],
            [
             1.0,
             "#f0f921"
            ]
           ],
           "sequentialminus": [
            [
             0.0,
             "#0d0887"
            ],
            [
             0.1111111111111111,
             "#46039f"
            ],
            [
             0.2222222222222222,
             "#7201a8"
            ],
            [
             0.3333333333333333,
             "#9c179e"
            ],
            [
             0.4444444444444444,
             "#bd3786"
            ],
            [
             0.5555555555555556,
             "#d8576b"
            ],
            [
             0.6666666666666666,
             "#ed7953"
            ],
            [
             0.7777777777777778,
             "#fb9f3a"
            ],
            [
             0.8888888888888888,
             "#fdca26"
            ],
            [
             1.0,
             "#f0f921"
            ]
           ],
           "diverging": [
            [
             0,
             "#8e0152"
            ],
            [
             0.1,
             "#c51b7d"
            ],
            [
             0.2,
             "#de77ae"
            ],
            [
             0.3,
             "#f1b6da"
            ],
            [
             0.4,
             "#fde0ef"
            ],
            [
             0.5,
             "#f7f7f7"
            ],
            [
             0.6,
             "#e6f5d0"
            ],
            [
             0.7,
             "#b8e186"
            ],
            [
             0.8,
             "#7fbc41"
            ],
            [
             0.9,
             "#4d9221"
            ],
            [
             1,
             "#276419"
            ]
           ]
          },
          "xaxis": {
           "gridcolor": "white",
           "linecolor": "white",
           "ticks": "",
           "title": {
            "standoff": 15
           },
           "zerolinecolor": "white",
           "automargin": true,
           "zerolinewidth": 2
          },
          "yaxis": {
           "gridcolor": "white",
           "linecolor": "white",
           "ticks": "",
           "title": {
            "standoff": 15
           },
           "zerolinecolor": "white",
           "automargin": true,
           "zerolinewidth": 2
          },
          "scene": {
           "xaxis": {
            "backgroundcolor": "#E5ECF6",
            "gridcolor": "white",
            "linecolor": "white",
            "showbackground": true,
            "ticks": "",
            "zerolinecolor": "white",
            "gridwidth": 2
           },
           "yaxis": {
            "backgroundcolor": "#E5ECF6",
            "gridcolor": "white",
            "linecolor": "white",
            "showbackground": true,
            "ticks": "",
            "zerolinecolor": "white",
            "gridwidth": 2
           },
           "zaxis": {
            "backgroundcolor": "#E5ECF6",
            "gridcolor": "white",
            "linecolor": "white",
            "showbackground": true,
            "ticks": "",
            "zerolinecolor": "white",
            "gridwidth": 2
           }
          },
          "shapedefaults": {
           "line": {
            "color": "#2a3f5f"
           }
          },
          "annotationdefaults": {
           "arrowcolor": "#2a3f5f",
           "arrowhead": 0,
           "arrowwidth": 1
          },
          "geo": {
           "bgcolor": "white",
           "landcolor": "#E5ECF6",
           "subunitcolor": "white",
           "showland": true,
           "showlakes": true,
           "lakecolor": "white"
          },
          "title": {
           "x": 0.05
          },
          "mapbox": {
           "style": "light"
          }
         }
        },
        "geo": {
         "domain": {
          "x": [
           0.0,
           1.0
          ],
          "y": [
           0.0,
           1.0
          ]
         },
         "center": {}
        },
        "coloraxis": {
         "colorbar": {
          "title": {
           "text": "Density (Stations/km)"
          }
         },
         "colorscale": [
          [
           0.0,
           "rgb(3, 35, 51)"
          ],
          [
           0.09090909090909091,
           "rgb(13, 48, 100)"
          ],
          [
           0.18181818181818182,
           "rgb(53, 50, 155)"
          ],
          [
           0.2727272727272727,
           "rgb(93, 62, 153)"
          ],
          [
           0.36363636363636365,
           "rgb(126, 77, 143)"
          ],
          [
           0.45454545454545453,
           "rgb(158, 89, 135)"
          ],
          [
           0.5454545454545454,
           "rgb(193, 100, 121)"
          ],
          [
           0.6363636363636364,
           "rgb(225, 113, 97)"
          ],
          [
           0.7272727272727273,
           "rgb(246, 139, 69)"
          ],
          [
           0.8181818181818182,
           "rgb(251, 173, 60)"
          ],
          [
           0.9090909090909091,
           "rgb(246, 211, 70)"
          ],
          [
           1.0,
           "rgb(231, 250, 90)"
          ]
         ]
        },
        "legend": {
         "tracegroupgap": 0
        },
        "title": {
         "text": "Commuter Rail Station Density"
        },
        "margin": {
         "t": 80,
         "b": 20
        },
        "width": 900,
        "height": 400
       },
       "config": {
        "plotlyServerURL": "https://plot.ly"
       }
      }
     },
     "metadata": {},
     "output_type": "display_data"
    }
   ],
   "execution_count": 14
  },
  {
   "metadata": {
    "ExecuteTime": {
     "end_time": "2025-08-29T19:25:52.156671Z",
     "start_time": "2025-08-29T19:25:52.150588Z"
    }
   },
   "cell_type": "code",
   "source": [
    "import pycountry_convert as pcc\n",
    "# https://stackoverflow.com/questions/55910004/get-continent-name-from-country-using-pycountry\n",
    "def country_to_continent(country_name):\n",
    "    country_alpha2 = pcc.country_name_to_country_alpha2(country_name)\n",
    "    country_continent_code = pcc.country_alpha2_to_continent_code(country_alpha2)\n",
    "    country_continent_name = pcc.convert_continent_code_to_continent_name(country_continent_code)\n",
    "    return country_continent_name\n",
    "continent_df = filtered_df.copy()\n",
    "continent_df[\"Continent\"] = continent_df[\"Country\"].apply(country_to_continent)\n",
    "continent_df.to_csv(\"Continent.csv\", index=False)"
   ],
   "id": "451d0462d952d35e",
   "outputs": [],
   "execution_count": 15
  },
  {
   "metadata": {},
   "cell_type": "markdown",
   "source": [
    "## Length vs. Daily Ridership\n",
    "This plot compares the length of commuter rail networks (in kilometers) with daily ridership across continents. The first subplot contains Europe and Asia, and the second has the rest of the world. Systems with higher ridership tend to have longer networks, mostly in Europe and Asia. JR East, Japan’s largest rail operator, stands out as a significant outlier with exceptionally high daily ridership compared to other systems, due to the efficiency and popularity of its dense commuter rail network. Other continents show a wider scatter, meaning more ridership variation compared to the network's length.\n",
    "\n",
    "The legend also contains a calculated $R^2$ value for the relationship between length and daily ridership. North America’s relatively low $R^2$ of $0.53$ shows the varied use its commuter rail systems."
   ],
   "id": "5d811a6b1fbafc25"
  },
  {
   "metadata": {
    "ExecuteTime": {
     "end_time": "2025-08-29T19:26:02.540829Z",
     "start_time": "2025-08-29T19:25:52.180542Z"
    }
   },
   "cell_type": "code",
   "source": [
    "from plotly.subplots import make_subplots\n",
    "import plotly.graph_objects as go\n",
    "import numpy as np\n",
    "from scipy.stats import linregress\n",
    "\n",
    "continent_df = continent_df[continent_df[\"Daily ridership\"] > 0]\n",
    "europe = continent_df[continent_df[\"Continent\"] == \"Europe\"]\n",
    "asia = continent_df[continent_df[\"Continent\"] == \"Asia\"]\n",
    "north_america = continent_df[continent_df[\"Continent\"] == \"North America\"]\n",
    "south_america = continent_df[continent_df[\"Continent\"] == \"South America\"]\n",
    "africa = continent_df[continent_df[\"Continent\"] == \"Africa\"]\n",
    "oceania = continent_df[continent_df[\"Continent\"] == \"Oceania\"]\n",
    "\n",
    "def calculate_r2(x, y):\n",
    "    if len(x) > 1:\n",
    "        slope, intercept, r_value, p_value, std_err = linregress(x, y)\n",
    "        return r_value**2\n",
    "    else:\n",
    "        return None\n",
    "    \n",
    "europe_r2 = calculate_r2(np.log(europe[\"Daily ridership\"]), europe[\"Length (km)\"])\n",
    "asia_r2 = calculate_r2(np.log(asia[\"Daily ridership\"]), asia[\"Length (km)\"])\n",
    "north_america_r2 = calculate_r2(np.log(north_america[\"Daily ridership\"]), north_america[\"Length (km)\"])\n",
    "south_america_r2 = calculate_r2(np.log(south_america[\"Daily ridership\"]), south_america[\"Length (km)\"])\n",
    "africa_r2 = calculate_r2(np.log(africa[\"Daily ridership\"]), africa[\"Length (km)\"])\n",
    "oceania_r2 = calculate_r2(np.log(oceania[\"Daily ridership\"]), oceania[\"Length (km)\"])\n",
    "\n",
    "fig = make_subplots(rows=2, cols=1, shared_xaxes=True, subplot_titles=(\"Europe and Asia\", \"Rest of World\"), vertical_spacing=0.05)\n",
    "\n",
    "fig.append_trace(go.Scatter(x=europe[\"Daily ridership\"], y=europe[\"Length (km)\"], mode=\"markers\", hovertext=europe[\"Name\"], name=f\"Europe (R^2: {europe_r2:.2f})\"), row=1, col=1)\n",
    "fig.append_trace(go.Scatter(x=asia[\"Daily ridership\"], y=asia[\"Length (km)\"], mode=\"markers\", hovertext=asia[\"Name\"], name=f\"Asia (R^2: {asia_r2:.2f})\"), row=1, col=1)\n",
    "fig.append_trace(go.Scatter(x=north_america[\"Daily ridership\"], y=north_america[\"Length (km)\"], mode=\"markers\", hovertext=north_america[\"Name\"], name=f\"North America (R^2: {north_america_r2:.2f})\"), row=2, col=1)\n",
    "fig.append_trace(go.Scatter(x=south_america[\"Daily ridership\"], y=south_america[\"Length (km)\"], mode=\"markers\", hovertext=south_america[\"Name\"], name=f\"South America (R^2: {south_america_r2:.2f})\"), row=2, col=1)\n",
    "fig.append_trace(go.Scatter(x=africa[\"Daily ridership\"], y=africa[\"Length (km)\"], mode=\"markers\", hovertext=africa[\"Name\"], name=f\"Africa (R^2: {africa_r2:.2f})\"), row=2, col=1)\n",
    "fig.append_trace(go.Scatter(x=oceania[\"Daily ridership\"], y=oceania[\"Length (km)\"], mode=\"markers\", hovertext=oceania[\"Name\"], name=f\"Oceania (R^2: {oceania_r2:.2f})\"), row=2, col=1)\n",
    "\n",
    "fig.update_layout(title_text=\"Length (km) vs. Daily Ridership of Worldwide Commuter Rail Systems\",autosize=False,width=800,height=700,)\n",
    "fig.update_xaxes(title_text=\"Daily Ridership (log scale)\", type=\"log\", row=2, col=1)\n",
    "fig.update_yaxes(title_text=\"Length (km)\", row=1, col=1)\n",
    "fig.update_yaxes(title_text=\"Length (km)\", row=2, col=1)\n",
    "\n",
    "fig.update_xaxes(type=\"log\")\n",
    "fig.show()\n"
   ],
   "id": "589aa6ccf4d1f5f2",
   "outputs": [
    {
     "data": {
      "application/vnd.plotly.v1+json": {
       "data": [
        {
         "hovertext": [
          "S-Bahn Steiermark",
          "Tyrol S-Bahn",
          "S-Bahn Wien",
          "Brussels GEN/RER",
          "Split Suburban Railway",
          "Esko Prague",
          "S-train1",
          "Helsinki commuter rail",
          "Réseau Express Régional 1",
          "Transilien",
          "Berlin S-Bahn1",
          "Dresden S-Bahn",
          "Rhine-Main S-Bahn",
          "Hamburg S-Bahn1",
          "Hanover S-Bahn",
          "S-Bahn Mitteldeutschland",
          "S-Bahn Mittelelbe",
          "RheinNeckar S-Bahn",
          "Munich S-Bahn",
          "Nuremberg S-Bahn",
          "Rhein-Ruhr S-Bahn",
          "Stuttgart S-Bahn",
          "Athens Suburban Railway",
          "Proastiakos Patras",
          "BHÉV",
          "Dublin Area Rapid Transit",
          "Bologna metropolitan railway service",
          "Milan suburban railway service",
          "FL lines",
          "Rome–Lido railway",
          "Jæren Commuter Rail",
          "Trønderbanen",
          "CFR Săgeata Albastră",
          "Moscow Suburban Railway",
          "BG Voz",
          "Rodalies Barcelona",
          "Cercanías Madrid",
          "Cercanías Sevilla",
          "Cercanías Valencia",
          "Gothenburg commuter rail",
          "Östergötland commuter rail",
          "Pågatågen",
          "Stockholm commuter rail",
          "Roslagsbanan and Saltsjöbanan",
          "Basel S-Bahn",
          "Zürich S-Bahn",
          "Kyiv Urban Electric Train",
          "Merseyrail",
          "London Overground"
         ],
         "mode": "markers",
         "name": "Europe (R^2: 0.26)",
         "x": {
          "dtype": "f8",
          "bdata": "AAAAAAA65kAAAAAAAILkQAAAAACATxJBAAAAAEC58EAAAAAAAIBjQAAAAAAA2/pAAAAAACDKFUEAAAAAAGoIQQAAAADIGUlBAAAAAF7cSkEAAAAAYOM2QQAAAAAAlOFAAAAAAABqGEEAAAAAkHYiQQAAAADwEPRAAAAAAAD59UAAAAAAAGe1QAAAAACAT/JAAAAAAABqKEEAAAAAAIjjQAAAAACAuhVBAAAAAOCMGkEAAAAAAEzdQAAAAAAAMLFAAAAAAABqCEEAAAAAEP/zQAAAAADACfRAAAAAAIATDEEAAAAAgLQWQQAAAAAA+fVAAAAAAABYu0AAAAAAAMipQAAAAAAAfKVAAAAAAAfnREEAAAAAABfhQAAAAADAXBVBAAAAAADbKkEAAAAAAGrYQAAAAACAPeVAAAAAAABM7UAAAAAAAJTBQAAAAAAAauhAAAAAAEAGGUEAAAAAABfxQAAAAAAAve9AAAAAACTWG0EAAAAAAEDfQAAAAAAA2/pAAAAAAMCaH0E="
         },
         "y": {
          "dtype": "f8",
          "bdata": "AAAAAAAgfEAAAAAAAPBwQAAAAAAAsH1AAAAAAADgdUDNzMzMzMwxQAAAAAAAKI1AAAAAAABAZUAAAAAAAIBtQAAAAAAA0IJAAAAAAABMlEAzMzMzM/N0QAAAAAAAwGRAAAAAAADwckAAAAAAAABiQAAAAAAAEHhAAAAAAAA4ikAAAAAAAEBgQAAAAAAAUHtAAAAAAAAge0AAAAAAAAB0QAAAAAAAIIVAAAAAAADgakAAAAAAAEByQAAAAAAAAD1AAAAAAABAWUAAAAAAAIBKQAAAAAAA4HVAAAAAAAAweUAAAAAAAACFQAAAAAAAADxAAAAAAADAUkAAAAAAACByQAAAAAAAADRAZmZmZmahokDNzMzMzEw/QAAAAAAAOINAAAAAAAAgd0AAAAAAAGBvQAAAAAAAgG9AAAAAAAAAWkAAAAAAAMBcQAAAAAAAQHhAAAAAAAAgbkAAAAAAAMBUQAAAAAAAQG9AAAAAAADAd0AAAAAAAABJQM3MzMzMLF5AAAAAAADgZEA="
         },
         "type": "scatter",
         "xaxis": "x",
         "yaxis": "y"
        },
        {
         "hovertext": [
          "Baku suburban railway",
          "MTR",
          "Chennai Suburban Railway",
          "Lucknow-Kanpur Suburban Railway",
          "Hyderabad MMTS",
          "Kolkata Suburban Railway",
          "Pune Suburban Railway",
          "Mumbai Suburban Railway",
          "KRL Commuterline",
          "Soekarno–Hatta Airport Rail Link",
          "KRL Commuterline Yogyakarta–Solo",
          "Israel Railways",
          "Nishi-Nippon Railroad",
          "Amagi Railway",
          "Aichi Loop Line",
          "Johoku Line",
          "Nagoya Seaside Rapid Railway",
          "Hankyu Railway",
          "Kobe Electric Railway",
          "Nankai Electric Railway",
          "Semboku Rapid Railway",
          "Sendai Airport Transit",
          "JR East",
          "Hokuso Railway",
          "Keihin Electric Express Railway",
          "Keio Corporation",
          "Keisei Electric Railway",
          "Metropolitan Intercity Railway Company",
          "Odakyu Electric Railway",
          "Sagami Railway",
          "Seibu Railway",
          "Shin-Keisei Electric Railway",
          "Tobu Railway",
          "Tokyu Corporation",
          "Toyo Rapid Railway",
          "Korail",
          "A'REX",
          "Korail",
          "KTM Komuter",
          "Express Rail Link",
          "Yangon Circular Railway",
          "Philippine National Railways Metro Commuter Line",
          "Airport Rail Link",
          "Marmaray",
          "İZBAN"
         ],
         "mode": "markers",
         "name": "Asia (R^2: 0.27)",
         "x": {
          "dtype": "f8",
          "bdata": "AAAAAACX3UAAAAAAmKU8QQAAAABg4zZBAAAAAACI80AAAAAAANsKQQAAAAAIRVdBAAAAAABq+EAAAAAAOu9cQQAAAACATzJBAAAAAAAEsEAAAAAAAAzdQAAAAABAdwtBAAAAACSSIEEAAAAAAOisQAAAAADg7OJAAAAAAACglUAAAAAAAG7lQAAAAAAwwT1BAAAAACCkA0EAAAAA5OghQQAAAADQiABBAAAAAAAOukAAAABAQzRvQQAAAACAiPpAAAAAAJMWNEEAAAAA5D88QQAAAAAe/SdBAAAAAFBPGkEAAAAAh5M/QQAAAAAmYCNBAAAAAOmIO0EAAAAAPOAQQQAAAIDpPUNBAAAAAKYySEEAAAAAQDwAQQAAAID3ZEhBAAAAADhCBkEAAAAAIPPoQAAAAABQZP1AAAAAAIA40UAAAAAAgIT+QAAAAAAAavhAAAAAAADz5kAAAAAAEBICQQAAAABAlQZB"
         },
         "y": {
          "dtype": "f8",
          "bdata": "AAAAAADAVkDNzMzMzOxdQKRwPQrXWJJAAAAAAAAAUkAAAAAAAABJQAAAAAAAdJdAAAAAAAAAUEAAAAAAABB9QAAAAAAAIHpAZmZmZmYmS0CamZmZmVlQQAAAAAAAFJNAZmZmZmaGWkBmZmZmZmYrQGZmZmZmpkZAZmZmZmZmJkBmZmZmZmYuQAAAAAAAAGFAzczMzMxMUUDNzMzMzLxjQJqZmZmZmSxAZmZmZmZmHECamZmZmdWhQGZmZmZmJkBAAAAAAADAVUAzMzMzMxNWQJqZmZmZGWNAZmZmZmYmTUAAAAAAACBeQDMzMzMz80FAMzMzMzMTZkAAAAAAAIA6QM3MzMzM9HxAAAAAAACgV0AzMzMzMzMwQDMzMzMze4JAZmZmZmbmT0AAAAAAAAA8QAAAAAAA0HBAAAAAAACATEAzMzMzM/NGQM3MzMzM7FJAmpmZmZmZPEBmZmZmZiZTQAAAAAAAAGFA"
         },
         "type": "scatter",
         "xaxis": "x",
         "yaxis": "y"
        },
        {
         "hovertext": [
          "Exo commuter rail",
          "GO Transit",
          "Union Pearson Express",
          "West Coast Express",
          "Tren Suburbano",
          "New Mexico Rail Runner Express",
          "Capital MetroRail",
          "MBTA Commuter Rail",
          "Metra",
          "South Shore Line",
          "Trinity Railway Express",
          "A-train",
          "TEXRail",
          "RTD Commuter Rail",
          "Metrolink",
          "Tri-Rail",
          "Northstar Commuter Rail",
          "WeGo Star",
          "CTrail",
          "Long Island Rail Road",
          "Metro-North Railroad",
          "NJ Transit",
          "SunRail",
          "SEPTA Regional Rail",
          "Westside Express Service",
          "FrontRunner",
          "Coaster",
          "Caltrain",
          "Altamont Corridor Express",
          "Sonoma–Marin Area Rail Transit",
          "Sounder commuter rail",
          "MARC",
          "Virginia Railway Express"
         ],
         "mode": "markers",
         "name": "North America (R^2: 0.53)",
         "x": {
          "dtype": "f8",
          "bdata": "AAAAAMBJ9EAAAAAAAF4KQQAAAACAtcNAAAAAAAASxkAAAAAAgJwKQQAAAAAAeK5AAAAAAAAAmUAAAAAAgJf/QAAAAABgGhJBAAAAAAB2xkAAAAAAADbAQAAAAAAAcJdAAAAAAABUlEAAAAAAAAfcQAAAAAAgo+RAAAAAAADCykAAAAAAAGigQAAAAAAAQI9AAAAAAADOqkAAAAAAoH8XQQAAAACATxJBAAAAAMhqEkEAAAAAAMywQAAAAABAl/5AAAAAAADglUAAAAAAAGTJQAAAAAAAwLJAAAAAAEBx7EAAAAAAAOClQAAAAAAAPKFAAAAAAECo0EAAAAAAAJHeQAAAAAAAjtJA"
         },
         "y": {
          "dtype": "f8",
          "bdata": "MzMzMzMTbEAAAAAAAHCAQM3MzMzMTDdAAAAAAABAUUAAAAAAAAA7QAAAAAAAgGNAAAAAAACASUAAAAAAAAiEQAAAAAAAiIhAAAAAAACAYUCamZmZmVlLQGZmZmZm5kBAZmZmZmbmRUDD9Shcj1JVQAAAAAAA2IpAZmZmZmaGXEAAAAAAAABQQAAAAAAAwElAAAAAAABQaEAAAAAAADCRQAAAAAAAzJNAAAAAAADol0DNzMzMzKxTQAAAAAAAIHxAMzMzMzOzN0AAAAAAAMBhQAAAAAAAgFBAZmZmZmYmX0AAAAAAAEBhQAAAAAAAgEZAAAAAAACAYEAAAAAAANByQAAAAAAAIGJA"
         },
         "type": "scatter",
         "xaxis": "x2",
         "yaxis": "y2"
        },
        {
         "hovertext": [
          "Buenos Aires Metropolitan Area Rail Network",
          "Tren de las Sierras",
          "University train of La Plata",
          "Tren del Valle",
          "Servicio Regional Salta",
          "Posadas-Encarnación International Train",
          "Fortaleza Metro",
          "Sistema de Trens Urbanos de João Pessoa",
          "Maceió Urban Rail",
          "Sistema de Trens Urbanos de Natal",
          "SuperVia",
          "Companhia Paulista de Trens Metropolitanos 1",
          "ViaMobilidade",
          "VLT de Sobral",
          "Teresina Metro",
          "Valparaíso Metro",
          "Biotren",
          "Corto Laja",
          "Metrotren",
          "Regional Victoria-Temuco",
          "Talca-Constitución Buscarril",
          "State Railways Administration of Uruguay",
          "Sistema Ferroviario Central"
         ],
         "mode": "markers",
         "name": "South America (R^2: 0.21)",
         "x": {
          "dtype": "f8",
          "bdata": "AAAAAMBcNUEAAAAAALCVQAAAAAAAh71AAAAAAAAAeUAAAAAAANCBQAAAAAAAQL9AAAAAAABG3kAAAAAAAIjDQAAAAAAAfMVAAAAAAABMzUAAAAAAwOsiQQAAAABg4zZBAAAAAABqKEEAAAAAAJTRQAAAAAAAQL9AAAAAAIBP8kAAAAAAAO3XQAAAAAAAAJlAAAAAAAAR8kAAAAAAAFCUQAAAAAAAAGFAAAAAAADAkkAAAAAAABcBQQ=="
         },
         "y": {
          "dtype": "f8",
          "bdata": "AAAAAAB4iUCamZmZmdliQGZmZmZmZhJAAAAAAAAANUAAAAAAAMBVQAAAAAAAACBAAAAAAACARUAAAAAAAAA+QGZmZmZmJkFAAAAAAAAATEAAAAAAAPBrQAAAAAAAgGhAAAAAAAAAU0DNzMzMzMwrQAAAAAAAACtAAAAAAACARUAAAAAAAABIQDMzMzMz01VAmpmZmZm5YEAAAAAAAEBQQAAAAAAAAFZAAAAAAAAAVEAzMzMzM7NEQA=="
         },
         "type": "scatter",
         "xaxis": "x2",
         "yaxis": "y2"
        },
        {
         "hovertext": [
          "Algiers RER",
          "Nairobi rail service",
          "Train Express Regional",
          "Metrorail Western Cape",
          "Dar es Salaam commuter rail"
         ],
         "mode": "markers",
         "name": "Africa (R^2: 0.56)",
         "x": {
          "dtype": "f8",
          "bdata": "AAAAAIA39kAAAAAAAFzCQAAAAAAAauhAAAAAAICEHkEAAAAAAEDPQA=="
         },
         "y": {
          "dtype": "f8",
          "bdata": "AAAAAACgX0AAAAAAAABkQAAAAAAAgEtAAAAAAABwekAAAAAAAIBGQA=="
         },
         "type": "scatter",
         "xaxis": "x2",
         "yaxis": "y2"
        },
        {
         "hovertext": [
          "Railways in Adelaide",
          "Railways in South East Queensland",
          "Metro Trains Melbourne1",
          "Transperth",
          "Sydney Trains1",
          "AT Metro",
          "Metlink"
         ],
         "mode": "markers",
         "name": "Oceania (R^2: 0.78)",
         "x": {
          "dtype": "f8",
          "bdata": "AAAAAIBi40AAAAAAABECQQAAAADgOSNBAAAAAIB7A0EAAAAAEKMlQQAAAAAAEfJAAAAAAABM3UA="
         },
         "y": {
          "dtype": "f8",
          "bdata": "AAAAAACAYEAAAAAAAIiFQAAAAAAAXJBAAAAAAACgb0AAAAAAAGiJQAAAAAAAwFdAAAAAAABAY0A="
         },
         "type": "scatter",
         "xaxis": "x2",
         "yaxis": "y2"
        }
       ],
       "layout": {
        "template": {
         "data": {
          "histogram2dcontour": [
           {
            "type": "histogram2dcontour",
            "colorbar": {
             "outlinewidth": 0,
             "ticks": ""
            },
            "colorscale": [
             [
              0.0,
              "#0d0887"
             ],
             [
              0.1111111111111111,
              "#46039f"
             ],
             [
              0.2222222222222222,
              "#7201a8"
             ],
             [
              0.3333333333333333,
              "#9c179e"
             ],
             [
              0.4444444444444444,
              "#bd3786"
             ],
             [
              0.5555555555555556,
              "#d8576b"
             ],
             [
              0.6666666666666666,
              "#ed7953"
             ],
             [
              0.7777777777777778,
              "#fb9f3a"
             ],
             [
              0.8888888888888888,
              "#fdca26"
             ],
             [
              1.0,
              "#f0f921"
             ]
            ]
           }
          ],
          "choropleth": [
           {
            "type": "choropleth",
            "colorbar": {
             "outlinewidth": 0,
             "ticks": ""
            }
           }
          ],
          "histogram2d": [
           {
            "type": "histogram2d",
            "colorbar": {
             "outlinewidth": 0,
             "ticks": ""
            },
            "colorscale": [
             [
              0.0,
              "#0d0887"
             ],
             [
              0.1111111111111111,
              "#46039f"
             ],
             [
              0.2222222222222222,
              "#7201a8"
             ],
             [
              0.3333333333333333,
              "#9c179e"
             ],
             [
              0.4444444444444444,
              "#bd3786"
             ],
             [
              0.5555555555555556,
              "#d8576b"
             ],
             [
              0.6666666666666666,
              "#ed7953"
             ],
             [
              0.7777777777777778,
              "#fb9f3a"
             ],
             [
              0.8888888888888888,
              "#fdca26"
             ],
             [
              1.0,
              "#f0f921"
             ]
            ]
           }
          ],
          "heatmap": [
           {
            "type": "heatmap",
            "colorbar": {
             "outlinewidth": 0,
             "ticks": ""
            },
            "colorscale": [
             [
              0.0,
              "#0d0887"
             ],
             [
              0.1111111111111111,
              "#46039f"
             ],
             [
              0.2222222222222222,
              "#7201a8"
             ],
             [
              0.3333333333333333,
              "#9c179e"
             ],
             [
              0.4444444444444444,
              "#bd3786"
             ],
             [
              0.5555555555555556,
              "#d8576b"
             ],
             [
              0.6666666666666666,
              "#ed7953"
             ],
             [
              0.7777777777777778,
              "#fb9f3a"
             ],
             [
              0.8888888888888888,
              "#fdca26"
             ],
             [
              1.0,
              "#f0f921"
             ]
            ]
           }
          ],
          "contourcarpet": [
           {
            "type": "contourcarpet",
            "colorbar": {
             "outlinewidth": 0,
             "ticks": ""
            }
           }
          ],
          "contour": [
           {
            "type": "contour",
            "colorbar": {
             "outlinewidth": 0,
             "ticks": ""
            },
            "colorscale": [
             [
              0.0,
              "#0d0887"
             ],
             [
              0.1111111111111111,
              "#46039f"
             ],
             [
              0.2222222222222222,
              "#7201a8"
             ],
             [
              0.3333333333333333,
              "#9c179e"
             ],
             [
              0.4444444444444444,
              "#bd3786"
             ],
             [
              0.5555555555555556,
              "#d8576b"
             ],
             [
              0.6666666666666666,
              "#ed7953"
             ],
             [
              0.7777777777777778,
              "#fb9f3a"
             ],
             [
              0.8888888888888888,
              "#fdca26"
             ],
             [
              1.0,
              "#f0f921"
             ]
            ]
           }
          ],
          "surface": [
           {
            "type": "surface",
            "colorbar": {
             "outlinewidth": 0,
             "ticks": ""
            },
            "colorscale": [
             [
              0.0,
              "#0d0887"
             ],
             [
              0.1111111111111111,
              "#46039f"
             ],
             [
              0.2222222222222222,
              "#7201a8"
             ],
             [
              0.3333333333333333,
              "#9c179e"
             ],
             [
              0.4444444444444444,
              "#bd3786"
             ],
             [
              0.5555555555555556,
              "#d8576b"
             ],
             [
              0.6666666666666666,
              "#ed7953"
             ],
             [
              0.7777777777777778,
              "#fb9f3a"
             ],
             [
              0.8888888888888888,
              "#fdca26"
             ],
             [
              1.0,
              "#f0f921"
             ]
            ]
           }
          ],
          "mesh3d": [
           {
            "type": "mesh3d",
            "colorbar": {
             "outlinewidth": 0,
             "ticks": ""
            }
           }
          ],
          "scatter": [
           {
            "fillpattern": {
             "fillmode": "overlay",
             "size": 10,
             "solidity": 0.2
            },
            "type": "scatter"
           }
          ],
          "parcoords": [
           {
            "type": "parcoords",
            "line": {
             "colorbar": {
              "outlinewidth": 0,
              "ticks": ""
             }
            }
           }
          ],
          "scatterpolargl": [
           {
            "type": "scatterpolargl",
            "marker": {
             "colorbar": {
              "outlinewidth": 0,
              "ticks": ""
             }
            }
           }
          ],
          "bar": [
           {
            "error_x": {
             "color": "#2a3f5f"
            },
            "error_y": {
             "color": "#2a3f5f"
            },
            "marker": {
             "line": {
              "color": "#E5ECF6",
              "width": 0.5
             },
             "pattern": {
              "fillmode": "overlay",
              "size": 10,
              "solidity": 0.2
             }
            },
            "type": "bar"
           }
          ],
          "scattergeo": [
           {
            "type": "scattergeo",
            "marker": {
             "colorbar": {
              "outlinewidth": 0,
              "ticks": ""
             }
            }
           }
          ],
          "scatterpolar": [
           {
            "type": "scatterpolar",
            "marker": {
             "colorbar": {
              "outlinewidth": 0,
              "ticks": ""
             }
            }
           }
          ],
          "histogram": [
           {
            "marker": {
             "pattern": {
              "fillmode": "overlay",
              "size": 10,
              "solidity": 0.2
             }
            },
            "type": "histogram"
           }
          ],
          "scattergl": [
           {
            "type": "scattergl",
            "marker": {
             "colorbar": {
              "outlinewidth": 0,
              "ticks": ""
             }
            }
           }
          ],
          "scatter3d": [
           {
            "type": "scatter3d",
            "line": {
             "colorbar": {
              "outlinewidth": 0,
              "ticks": ""
             }
            },
            "marker": {
             "colorbar": {
              "outlinewidth": 0,
              "ticks": ""
             }
            }
           }
          ],
          "scattermap": [
           {
            "type": "scattermap",
            "marker": {
             "colorbar": {
              "outlinewidth": 0,
              "ticks": ""
             }
            }
           }
          ],
          "scattermapbox": [
           {
            "type": "scattermapbox",
            "marker": {
             "colorbar": {
              "outlinewidth": 0,
              "ticks": ""
             }
            }
           }
          ],
          "scatterternary": [
           {
            "type": "scatterternary",
            "marker": {
             "colorbar": {
              "outlinewidth": 0,
              "ticks": ""
             }
            }
           }
          ],
          "scattercarpet": [
           {
            "type": "scattercarpet",
            "marker": {
             "colorbar": {
              "outlinewidth": 0,
              "ticks": ""
             }
            }
           }
          ],
          "carpet": [
           {
            "aaxis": {
             "endlinecolor": "#2a3f5f",
             "gridcolor": "white",
             "linecolor": "white",
             "minorgridcolor": "white",
             "startlinecolor": "#2a3f5f"
            },
            "baxis": {
             "endlinecolor": "#2a3f5f",
             "gridcolor": "white",
             "linecolor": "white",
             "minorgridcolor": "white",
             "startlinecolor": "#2a3f5f"
            },
            "type": "carpet"
           }
          ],
          "table": [
           {
            "cells": {
             "fill": {
              "color": "#EBF0F8"
             },
             "line": {
              "color": "white"
             }
            },
            "header": {
             "fill": {
              "color": "#C8D4E3"
             },
             "line": {
              "color": "white"
             }
            },
            "type": "table"
           }
          ],
          "barpolar": [
           {
            "marker": {
             "line": {
              "color": "#E5ECF6",
              "width": 0.5
             },
             "pattern": {
              "fillmode": "overlay",
              "size": 10,
              "solidity": 0.2
             }
            },
            "type": "barpolar"
           }
          ],
          "pie": [
           {
            "automargin": true,
            "type": "pie"
           }
          ]
         },
         "layout": {
          "autotypenumbers": "strict",
          "colorway": [
           "#636efa",
           "#EF553B",
           "#00cc96",
           "#ab63fa",
           "#FFA15A",
           "#19d3f3",
           "#FF6692",
           "#B6E880",
           "#FF97FF",
           "#FECB52"
          ],
          "font": {
           "color": "#2a3f5f"
          },
          "hovermode": "closest",
          "hoverlabel": {
           "align": "left"
          },
          "paper_bgcolor": "white",
          "plot_bgcolor": "#E5ECF6",
          "polar": {
           "bgcolor": "#E5ECF6",
           "angularaxis": {
            "gridcolor": "white",
            "linecolor": "white",
            "ticks": ""
           },
           "radialaxis": {
            "gridcolor": "white",
            "linecolor": "white",
            "ticks": ""
           }
          },
          "ternary": {
           "bgcolor": "#E5ECF6",
           "aaxis": {
            "gridcolor": "white",
            "linecolor": "white",
            "ticks": ""
           },
           "baxis": {
            "gridcolor": "white",
            "linecolor": "white",
            "ticks": ""
           },
           "caxis": {
            "gridcolor": "white",
            "linecolor": "white",
            "ticks": ""
           }
          },
          "coloraxis": {
           "colorbar": {
            "outlinewidth": 0,
            "ticks": ""
           }
          },
          "colorscale": {
           "sequential": [
            [
             0.0,
             "#0d0887"
            ],
            [
             0.1111111111111111,
             "#46039f"
            ],
            [
             0.2222222222222222,
             "#7201a8"
            ],
            [
             0.3333333333333333,
             "#9c179e"
            ],
            [
             0.4444444444444444,
             "#bd3786"
            ],
            [
             0.5555555555555556,
             "#d8576b"
            ],
            [
             0.6666666666666666,
             "#ed7953"
            ],
            [
             0.7777777777777778,
             "#fb9f3a"
            ],
            [
             0.8888888888888888,
             "#fdca26"
            ],
            [
             1.0,
             "#f0f921"
            ]
           ],
           "sequentialminus": [
            [
             0.0,
             "#0d0887"
            ],
            [
             0.1111111111111111,
             "#46039f"
            ],
            [
             0.2222222222222222,
             "#7201a8"
            ],
            [
             0.3333333333333333,
             "#9c179e"
            ],
            [
             0.4444444444444444,
             "#bd3786"
            ],
            [
             0.5555555555555556,
             "#d8576b"
            ],
            [
             0.6666666666666666,
             "#ed7953"
            ],
            [
             0.7777777777777778,
             "#fb9f3a"
            ],
            [
             0.8888888888888888,
             "#fdca26"
            ],
            [
             1.0,
             "#f0f921"
            ]
           ],
           "diverging": [
            [
             0,
             "#8e0152"
            ],
            [
             0.1,
             "#c51b7d"
            ],
            [
             0.2,
             "#de77ae"
            ],
            [
             0.3,
             "#f1b6da"
            ],
            [
             0.4,
             "#fde0ef"
            ],
            [
             0.5,
             "#f7f7f7"
            ],
            [
             0.6,
             "#e6f5d0"
            ],
            [
             0.7,
             "#b8e186"
            ],
            [
             0.8,
             "#7fbc41"
            ],
            [
             0.9,
             "#4d9221"
            ],
            [
             1,
             "#276419"
            ]
           ]
          },
          "xaxis": {
           "gridcolor": "white",
           "linecolor": "white",
           "ticks": "",
           "title": {
            "standoff": 15
           },
           "zerolinecolor": "white",
           "automargin": true,
           "zerolinewidth": 2
          },
          "yaxis": {
           "gridcolor": "white",
           "linecolor": "white",
           "ticks": "",
           "title": {
            "standoff": 15
           },
           "zerolinecolor": "white",
           "automargin": true,
           "zerolinewidth": 2
          },
          "scene": {
           "xaxis": {
            "backgroundcolor": "#E5ECF6",
            "gridcolor": "white",
            "linecolor": "white",
            "showbackground": true,
            "ticks": "",
            "zerolinecolor": "white",
            "gridwidth": 2
           },
           "yaxis": {
            "backgroundcolor": "#E5ECF6",
            "gridcolor": "white",
            "linecolor": "white",
            "showbackground": true,
            "ticks": "",
            "zerolinecolor": "white",
            "gridwidth": 2
           },
           "zaxis": {
            "backgroundcolor": "#E5ECF6",
            "gridcolor": "white",
            "linecolor": "white",
            "showbackground": true,
            "ticks": "",
            "zerolinecolor": "white",
            "gridwidth": 2
           }
          },
          "shapedefaults": {
           "line": {
            "color": "#2a3f5f"
           }
          },
          "annotationdefaults": {
           "arrowcolor": "#2a3f5f",
           "arrowhead": 0,
           "arrowwidth": 1
          },
          "geo": {
           "bgcolor": "white",
           "landcolor": "#E5ECF6",
           "subunitcolor": "white",
           "showland": true,
           "showlakes": true,
           "lakecolor": "white"
          },
          "title": {
           "x": 0.05
          },
          "mapbox": {
           "style": "light"
          }
         }
        },
        "xaxis": {
         "anchor": "y",
         "domain": [
          0.0,
          1.0
         ],
         "matches": "x2",
         "showticklabels": false,
         "type": "log"
        },
        "yaxis": {
         "anchor": "x",
         "domain": [
          0.525,
          1.0
         ],
         "title": {
          "text": "Length (km)"
         }
        },
        "xaxis2": {
         "anchor": "y2",
         "domain": [
          0.0,
          1.0
         ],
         "title": {
          "text": "Daily Ridership (log scale)"
         },
         "type": "log"
        },
        "yaxis2": {
         "anchor": "x2",
         "domain": [
          0.0,
          0.475
         ],
         "title": {
          "text": "Length (km)"
         }
        },
        "annotations": [
         {
          "font": {
           "size": 16
          },
          "showarrow": false,
          "text": "Europe and Asia",
          "x": 0.5,
          "xanchor": "center",
          "xref": "paper",
          "y": 1.0,
          "yanchor": "bottom",
          "yref": "paper"
         },
         {
          "font": {
           "size": 16
          },
          "showarrow": false,
          "text": "Rest of World",
          "x": 0.5,
          "xanchor": "center",
          "xref": "paper",
          "y": 0.475,
          "yanchor": "bottom",
          "yref": "paper"
         }
        ],
        "title": {
         "text": "Length (km) vs. Daily Ridership of Worldwide Commuter Rail Systems"
        },
        "autosize": false,
        "width": 800,
        "height": 700
       },
       "config": {
        "plotlyServerURL": "https://plot.ly"
       }
      }
     },
     "metadata": {},
     "output_type": "display_data"
    }
   ],
   "execution_count": 16
  },
  {
   "metadata": {},
   "cell_type": "markdown",
   "source": [
    "## Daily Ridership by Continent\n",
    "The bar chart illustrates daily ridership across continents, highlighting Asia as the clear leader with almost 60 million riders per day, greatly surpassing all other regions. Europe ranks second, while other continents like South America, North America, Oceania, and Africa show significantly lower daily ridership, emphasizing the disparity in the scale and usage of commuter rail systems worldwide."
   ],
   "id": "5e026894ba4f6ef4"
  },
  {
   "metadata": {
    "ExecuteTime": {
     "end_time": "2025-08-29T19:26:02.858804Z",
     "start_time": "2025-08-29T19:26:02.578868Z"
    }
   },
   "cell_type": "code",
   "source": [
    "import matplotlib.ticker as mtick\n",
    "grouped_data = continent_df.groupby(\"Continent\", as_index=False)[\"Daily ridership\"].sum()\n",
    "grouped_data = grouped_data.sort_values(by=\"Daily ridership\", ascending=False)\n",
    "grouped_data[\"Continent\"] = grouped_data[\"Continent\"].str.replace(\" \", \"\\n\")\n",
    "\n",
    "plt.bar(grouped_data[\"Continent\"], grouped_data[\"Daily ridership\"])\n",
    "\n",
    "plt.xticks(size = 9)\n",
    "plt.gca().yaxis.set_major_formatter(mtick.FuncFormatter(lambda x, _: f'{x/1e6:.1f}M'))\n",
    "plt.suptitle(\"Daily Ridership by Continent\")\n"
   ],
   "id": "2b56e4b21f522fd1",
   "outputs": [
    {
     "data": {
      "text/plain": [
       "Text(0.5, 0.98, 'Daily Ridership by Continent')"
      ]
     },
     "execution_count": 17,
     "metadata": {},
     "output_type": "execute_result"
    },
    {
     "data": {
      "text/plain": [
       "<Figure size 640x480 with 1 Axes>"
      ],
      "image/png": "[encoded data removed]"
     },
     "metadata": {},
     "output_type": "display_data"
    }
   ],
   "execution_count": 17
  },
  {
   "metadata": {},
   "cell_type": "markdown",
   "source": [
    "## Conclusion\n",
    "Overall, the data shows that Asia and Europe dominate the commuter rail world, both in terms of daily ridership and system length. Interestingly, Europe and Asia also have the lowest $R^2$ values, both around $0.27$, which means that the countries in these continents do not entirely have the same faith in commuter rail. Commuter rail is an evolving mode of transportation, shaped by the unique economic, cultural, and urban dynamics of each country, reflecting the varied priorities and challenges within these regions. "
   ],
   "id": "563e300d02c9450b"
  }
 ],
 "metadata": {
  "kernelspec": {
   "display_name": "Python 3",
   "language": "python",
   "name": "python3"
  },
  "language_info": {
   "codemirror_mode": {
    "name": "ipython",
    "version": 2
   },
   "file_extension": ".py",
   "mimetype": "text/x-python",
   "name": "python",
   "nbconvert_exporter": "python",
   "pygments_lexer": "ipython2",
   "version": "2.7.6"
  }
 },
 "nbformat": 4,
 "nbformat_minor": 5
}
